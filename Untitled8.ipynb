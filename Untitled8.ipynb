{
  "nbformat": 4,
  "nbformat_minor": 0,
  "metadata": {
    "colab": {
      "name": "Untitled8.ipynb",
      "provenance": [],
      "collapsed_sections": [],
      "authorship_tag": "ABX9TyPWeIFJFKCfWGIlET734+L1",
      "include_colab_link": true
    },
    "kernelspec": {
      "name": "python3",
      "display_name": "Python 3"
    },
    "language_info": {
      "name": "python"
    }
  },
  "cells": [
    {
      "cell_type": "markdown",
      "metadata": {
        "id": "view-in-github",
        "colab_type": "text"
      },
      "source": [
        "<a href=\"https://colab.research.google.com/github/reed2ep/data/blob/master/Untitled8.ipynb\" target=\"_parent\"><img src=\"https://colab.research.google.com/assets/colab-badge.svg\" alt=\"Open In Colab\"/></a>"
      ]
    },
    {
      "cell_type": "code",
      "metadata": {
        "id": "SZVsBacG86is"
      },
      "source": [
        "import numpy as np\n",
        "from scipy.optimize import newton"
      ],
      "execution_count": 253,
      "outputs": []
    },
    {
      "cell_type": "code",
      "metadata": {
        "id": "3JoSCA_rNDo7"
      },
      "source": [
        "g=9.81\n",
        "rho=1e3\n",
        "mu=1e-3\n",
        "eD=1e-3\n",
        "D=.1"
      ],
      "execution_count": 254,
      "outputs": []
    },
    {
      "cell_type": "code",
      "metadata": {
        "id": "daB6qbWX9cIe"
      },
      "source": [
        "def f(Re,eD):\n",
        "  A=(2.457*np.log(1/((7/Re)**.9+.27*eD)))**16\n",
        "  B=37530/Re\n",
        "  return 2*((8/Re)**12+1/(A+B)**1.5)**(1/12)"
      ],
      "execution_count": 255,
      "outputs": []
    },
    {
      "cell_type": "code",
      "metadata": {
        "id": "p27aX9JmIBn7"
      },
      "source": [
        "def dHead(Q,L,K,D,eD):\n",
        "  v=np.abs(Q/(np.pi*D**2/4))\n",
        "  Re=v*D*rho/mu\n",
        "  return -np.sign(Q)*(K+4*f(Re,eD)*L/D)*(v**2/2)/g"
      ],
      "execution_count": 256,
      "outputs": []
    },
    {
      "cell_type": "code",
      "metadata": {
        "id": "24NS-iWjPaHe"
      },
      "source": [
        "def flow(deltaHead,L,K,D,eD):\n",
        "  dH_abs=np.abs(deltaHead)\n",
        "  if dH_abs<1e-10:\n",
        "    return 0.0\n",
        "  Qguess=np.pi*D**2/4*((dH_abs)/(K+4*.01*L/D)*2*g)**(1/2)\n",
        "  def f_to_zero(Q):\n",
        "    V=Q/(np.pi*D**2/4)\n",
        "    Re=V*D*rho/mu\n",
        "    return -dH_abs + (K+4*f(Re,eD)*L/D)*(V**2/2)/g\n",
        "  resulting_flow_rate=newton(f_to_zero,Qguess)\n",
        "  return -np.sign(deltaHead)*resulting_flow_rate"
      ],
      "execution_count": 257,
      "outputs": []
    },
    {
      "cell_type": "code",
      "metadata": {
        "colab": {
          "base_uri": "https://localhost:8080/"
        },
        "id": "tmAyy1d2lTQs",
        "outputId": "12172849-2912-4545-a758-eea1b8810f4c"
      },
      "source": [
        "flow(deltaHead=-40,L=5,K=1.5,D=.1,eD=1e-3)"
      ],
      "execution_count": 258,
      "outputs": [
        {
          "output_type": "execute_result",
          "data": {
            "text/plain": [
              "0.13934340725524602"
            ]
          },
          "metadata": {
            "tags": []
          },
          "execution_count": 258
        }
      ]
    },
    {
      "cell_type": "code",
      "metadata": {
        "colab": {
          "base_uri": "https://localhost:8080/"
        },
        "id": "NmYtFaq5qhKX",
        "outputId": "a0bfa129-c5a4-43f6-f91d-650245c3a09e"
      },
      "source": [
        "flow(deltaHead=40,L=5,K=1.5,D=.1,eD=1e-3)"
      ],
      "execution_count": 259,
      "outputs": [
        {
          "output_type": "execute_result",
          "data": {
            "text/plain": [
              "-0.13934340725524602"
            ]
          },
          "metadata": {
            "tags": []
          },
          "execution_count": 259
        }
      ]
    },
    {
      "cell_type": "code",
      "metadata": {
        "id": "pWHIHqU5LO3v"
      },
      "source": [
        "pipes=np.array([[0,1,1.5,1.5],\n",
        "                [0,2,2.,2.],\n",
        "                [1,2,1.5,0],\n",
        "                [1,3,1.5,0],\n",
        "                [2,4,.5,0],\n",
        "                [3,4,3.,2]])"
      ],
      "execution_count": 260,
      "outputs": []
    },
    {
      "cell_type": "code",
      "metadata": {
        "id": "EuQfgERVLskG"
      },
      "source": [
        "z=np.array([30,0,0,0,0])"
      ],
      "execution_count": 261,
      "outputs": []
    },
    {
      "cell_type": "code",
      "metadata": {
        "colab": {
          "base_uri": "https://localhost:8080/"
        },
        "id": "Odcj1N2dXm37",
        "outputId": "3432f0f2-97ce-473f-b494-9736b9b93b1b"
      },
      "source": [
        "externalP=np.array([2e5,0])\n",
        "externalP_indices=[0,4]\n",
        "fromNodes=(pipes[:,0]).astype(np.int32)\n",
        "z[fromNodes]"
      ],
      "execution_count": 262,
      "outputs": [
        {
          "output_type": "execute_result",
          "data": {
            "text/plain": [
              "array([30, 30,  0,  0,  0,  0])"
            ]
          },
          "metadata": {
            "tags": []
          },
          "execution_count": 262
        }
      ]
    },
    {
      "cell_type": "code",
      "metadata": {
        "id": "bOnkp78vX_gC"
      },
      "source": [
        "toNodes=(pipes[:,1]).astype(np.int32)"
      ],
      "execution_count": 263,
      "outputs": []
    },
    {
      "cell_type": "code",
      "metadata": {
        "id": "fatX54jUYS0Q"
      },
      "source": [
        "lengths=(pipes[:,2])\n",
        "K=(pipes[:,3])"
      ],
      "execution_count": 264,
      "outputs": []
    },
    {
      "cell_type": "code",
      "metadata": {
        "id": "K5uSnD-jYbD7"
      },
      "source": [
        "nPipes=pipes.shape[0]"
      ],
      "execution_count": 265,
      "outputs": []
    },
    {
      "cell_type": "code",
      "metadata": {
        "colab": {
          "base_uri": "https://localhost:8080/"
        },
        "id": "JAX6bv-nY5IF",
        "outputId": "f2fd0724-65ba-4333-de4e-0e636a5532ec"
      },
      "source": [
        "nPipes"
      ],
      "execution_count": 266,
      "outputs": [
        {
          "output_type": "execute_result",
          "data": {
            "text/plain": [
              "6"
            ]
          },
          "metadata": {
            "tags": []
          },
          "execution_count": 266
        }
      ]
    },
    {
      "cell_type": "code",
      "metadata": {
        "id": "L51jGwIXY8BB"
      },
      "source": [
        "pipeD=np.full(nPipes,D)"
      ],
      "execution_count": 267,
      "outputs": []
    },
    {
      "cell_type": "code",
      "metadata": {
        "id": "ZdyXPhU0ZKXZ"
      },
      "source": [
        "pipe_eD=np.full(nPipes,eD)"
      ],
      "execution_count": 268,
      "outputs": []
    },
    {
      "cell_type": "code",
      "metadata": {
        "id": "2qSPrpdLa30p"
      },
      "source": [
        "nNodes=np.max(pipes[:,1]).astype(np.int32)+1"
      ],
      "execution_count": 269,
      "outputs": []
    },
    {
      "cell_type": "code",
      "metadata": {
        "id": "TCC43W3ReWmP"
      },
      "source": [
        "def calc_flows(heads):\n",
        "  flows=np.zeros(nPipes)\n",
        "  for i in range(nPipes):\n",
        "    deltaHead=heads[toNodes[i]]-heads[fromNodes[i]]\n",
        "    flows[i]=(flow(deltaHead,lengths[i],K[i],pipeD[i],pipe_eD[i]))\n",
        "  return flows"
      ],
      "execution_count": 270,
      "outputs": []
    },
    {
      "cell_type": "code",
      "metadata": {
        "colab": {
          "base_uri": "https://localhost:8080/"
        },
        "id": "MJeobK69Rph9",
        "outputId": "78ea4643-caf1-4052-a7ec-39f6cd8cc724"
      },
      "source": [
        "def calc_netQ(flows):\n",
        "  netQ=np.zeros(nNodes)\n",
        "  np.add.at(netQ,toNodes,flows)\n",
        "  np.add.at(netQ,fromNodes,-flows)\n",
        "  return netQ\n",
        "heads=np.array([50,40,10,20,10])\n",
        "calc_netQ(calc_flows(heads))"
      ],
      "execution_count": 271,
      "outputs": [
        {
          "output_type": "execute_result",
          "data": {
            "text/plain": [
              "array([-0.22410253, -0.55407566,  0.49235403,  0.21762684,  0.06819733])"
            ]
          },
          "metadata": {
            "tags": []
          },
          "execution_count": 271
        }
      ]
    },
    {
      "cell_type": "code",
      "metadata": {
        "colab": {
          "base_uri": "https://localhost:8080/",
          "height": 163
        },
        "id": "Z438GMxMEpi-",
        "outputId": "619891ca-2e87-4487-f27e-691c5730ffe0"
      },
      "source": [
        "netQ_internal(internalP)"
      ],
      "execution_count": 273,
      "outputs": [
        {
          "output_type": "error",
          "ename": "NameError",
          "evalue": "ignored",
          "traceback": [
            "\u001b[0;31m---------------------------------------------------------------------------\u001b[0m",
            "\u001b[0;31mNameError\u001b[0m                                 Traceback (most recent call last)",
            "\u001b[0;32m<ipython-input-273-a471a2f514b1>\u001b[0m in \u001b[0;36m<module>\u001b[0;34m()\u001b[0m\n\u001b[0;32m----> 1\u001b[0;31m \u001b[0mnetQ_internal\u001b[0m\u001b[0;34m(\u001b[0m\u001b[0minternalP\u001b[0m\u001b[0;34m)\u001b[0m\u001b[0;34m\u001b[0m\u001b[0;34m\u001b[0m\u001b[0m\n\u001b[0m",
            "\u001b[0;31mNameError\u001b[0m: name 'netQ_internal' is not defined"
          ]
        }
      ]
    },
    {
      "cell_type": "code",
      "metadata": {
        "colab": {
          "base_uri": "https://localhost:8080/"
        },
        "id": "MF5Zvxl9GdK3",
        "outputId": "dcac87da-e8da-43a2-d236-44e4bb91b79f"
      },
      "source": [
        "internalNodes=list(set(range(nNodes))-set(externalP_indices))\n",
        "z[internalNodes]"
      ],
      "execution_count": 274,
      "outputs": [
        {
          "output_type": "execute_result",
          "data": {
            "text/plain": [
              "array([0, 0, 0])"
            ]
          },
          "metadata": {
            "tags": []
          },
          "execution_count": 274
        }
      ]
    },
    {
      "cell_type": "code",
      "metadata": {
        "id": "2l4xJl0VVcXP"
      },
      "source": [
        ""
      ],
      "execution_count": null,
      "outputs": []
    }
  ]
}